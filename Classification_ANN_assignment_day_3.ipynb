{
  "nbformat": 4,
  "nbformat_minor": 0,
  "metadata": {
    "colab": {
      "name": "Classification ANN assignment day 3.ipynb",
      "provenance": [],
      "authorship_tag": "ABX9TyNKTWOuP4pRGJ0TtImEuh9M",
      "include_colab_link": true
    },
    "kernelspec": {
      "name": "python3",
      "display_name": "Python 3"
    },
    "language_info": {
      "name": "python"
    }
  },
  "cells": [
    {
      "cell_type": "markdown",
      "metadata": {
        "id": "view-in-github",
        "colab_type": "text"
      },
      "source": [
        "<a href=\"https://colab.research.google.com/github/mohit-singh4180/Machine_learning/blob/main/Classification_ANN_assignment_day_3.ipynb\" target=\"_parent\"><img src=\"https://colab.research.google.com/assets/colab-badge.svg\" alt=\"Open In Colab\"/></a>"
      ]
    },
    {
      "cell_type": "code",
      "execution_count": 1,
      "metadata": {
        "id": "AgZ45cValxF9"
      },
      "outputs": [],
      "source": [
        "import pandas as pd\n",
        "import numpy as np\n",
        "import matplotlib.pyplot as plt\n",
        "import tensorflow"
      ]
    },
    {
      "cell_type": "code",
      "source": [
        "data=pd.read_csv(r\"Loan-Approval-Prediction.csv\")"
      ],
      "metadata": {
        "id": "FSNpPt5al9Cu"
      },
      "execution_count": 2,
      "outputs": []
    },
    {
      "cell_type": "code",
      "source": [
        "data.head()"
      ],
      "metadata": {
        "colab": {
          "base_uri": "https://localhost:8080/",
          "height": 243
        },
        "id": "DCLsVKAZl_2m",
        "outputId": "b6bb26d5-2418-4ff0-fed5-f0cb4cbdcbe8"
      },
      "execution_count": 3,
      "outputs": [
        {
          "output_type": "execute_result",
          "data": {
            "text/html": [
              "<div>\n",
              "<style scoped>\n",
              "    .dataframe tbody tr th:only-of-type {\n",
              "        vertical-align: middle;\n",
              "    }\n",
              "\n",
              "    .dataframe tbody tr th {\n",
              "        vertical-align: top;\n",
              "    }\n",
              "\n",
              "    .dataframe thead th {\n",
              "        text-align: right;\n",
              "    }\n",
              "</style>\n",
              "<table border=\"1\" class=\"dataframe\">\n",
              "  <thead>\n",
              "    <tr style=\"text-align: right;\">\n",
              "      <th></th>\n",
              "      <th>Loan_ID</th>\n",
              "      <th>Gender</th>\n",
              "      <th>Married</th>\n",
              "      <th>Dependents</th>\n",
              "      <th>Education</th>\n",
              "      <th>Self_Employed</th>\n",
              "      <th>ApplicantIncome</th>\n",
              "      <th>CoapplicantIncome</th>\n",
              "      <th>LoanAmount</th>\n",
              "      <th>Loan_Amount_Term</th>\n",
              "      <th>Credit_History</th>\n",
              "      <th>Property_Area</th>\n",
              "      <th>Loan_Status</th>\n",
              "    </tr>\n",
              "  </thead>\n",
              "  <tbody>\n",
              "    <tr>\n",
              "      <th>0</th>\n",
              "      <td>LP001002</td>\n",
              "      <td>Male</td>\n",
              "      <td>No</td>\n",
              "      <td>0</td>\n",
              "      <td>Graduate</td>\n",
              "      <td>No</td>\n",
              "      <td>5849</td>\n",
              "      <td>0.0</td>\n",
              "      <td>NaN</td>\n",
              "      <td>360.0</td>\n",
              "      <td>1.0</td>\n",
              "      <td>Urban</td>\n",
              "      <td>Y</td>\n",
              "    </tr>\n",
              "    <tr>\n",
              "      <th>1</th>\n",
              "      <td>LP001003</td>\n",
              "      <td>Male</td>\n",
              "      <td>Yes</td>\n",
              "      <td>1</td>\n",
              "      <td>Graduate</td>\n",
              "      <td>No</td>\n",
              "      <td>4583</td>\n",
              "      <td>1508.0</td>\n",
              "      <td>128.0</td>\n",
              "      <td>360.0</td>\n",
              "      <td>1.0</td>\n",
              "      <td>Rural</td>\n",
              "      <td>N</td>\n",
              "    </tr>\n",
              "    <tr>\n",
              "      <th>2</th>\n",
              "      <td>LP001005</td>\n",
              "      <td>Male</td>\n",
              "      <td>Yes</td>\n",
              "      <td>0</td>\n",
              "      <td>Graduate</td>\n",
              "      <td>Yes</td>\n",
              "      <td>3000</td>\n",
              "      <td>0.0</td>\n",
              "      <td>66.0</td>\n",
              "      <td>360.0</td>\n",
              "      <td>1.0</td>\n",
              "      <td>Urban</td>\n",
              "      <td>Y</td>\n",
              "    </tr>\n",
              "    <tr>\n",
              "      <th>3</th>\n",
              "      <td>LP001006</td>\n",
              "      <td>Male</td>\n",
              "      <td>Yes</td>\n",
              "      <td>0</td>\n",
              "      <td>Not Graduate</td>\n",
              "      <td>No</td>\n",
              "      <td>2583</td>\n",
              "      <td>2358.0</td>\n",
              "      <td>120.0</td>\n",
              "      <td>360.0</td>\n",
              "      <td>1.0</td>\n",
              "      <td>Urban</td>\n",
              "      <td>Y</td>\n",
              "    </tr>\n",
              "    <tr>\n",
              "      <th>4</th>\n",
              "      <td>LP001008</td>\n",
              "      <td>Male</td>\n",
              "      <td>No</td>\n",
              "      <td>0</td>\n",
              "      <td>Graduate</td>\n",
              "      <td>No</td>\n",
              "      <td>6000</td>\n",
              "      <td>0.0</td>\n",
              "      <td>141.0</td>\n",
              "      <td>360.0</td>\n",
              "      <td>1.0</td>\n",
              "      <td>Urban</td>\n",
              "      <td>Y</td>\n",
              "    </tr>\n",
              "  </tbody>\n",
              "</table>\n",
              "</div>"
            ],
            "text/plain": [
              "    Loan_ID Gender Married  ... Credit_History Property_Area Loan_Status\n",
              "0  LP001002   Male      No  ...            1.0         Urban           Y\n",
              "1  LP001003   Male     Yes  ...            1.0         Rural           N\n",
              "2  LP001005   Male     Yes  ...            1.0         Urban           Y\n",
              "3  LP001006   Male     Yes  ...            1.0         Urban           Y\n",
              "4  LP001008   Male      No  ...            1.0         Urban           Y\n",
              "\n",
              "[5 rows x 13 columns]"
            ]
          },
          "metadata": {},
          "execution_count": 3
        }
      ]
    },
    {
      "cell_type": "code",
      "source": [
        "\n",
        "data.dropna(inplace=True)"
      ],
      "metadata": {
        "id": "j1Kbi6cPnf3x"
      },
      "execution_count": 4,
      "outputs": []
    },
    {
      "cell_type": "code",
      "source": [
        "data[\"ApplicantIncome\"]=data[\"ApplicantIncome\"].fillna(round(data[\"ApplicantIncome\"].mean(),1))\n",
        "data[\"CoapplicantIncome\"]=data[\"CoapplicantIncome\"].fillna(round(data[\"CoapplicantIncome\"].mean(),1))\n",
        "data[\"LoanAmount\"]=data[\"LoanAmount\"].fillna(round(data[\"LoanAmount\"].mean(),1))\n",
        "data[\"Loan_Amount_Term\"]=data[\"Loan_Amount_Term\"].fillna(round(data[\"Loan_Amount_Term\"].mean(),1))"
      ],
      "metadata": {
        "id": "v2BAC-Ncnn6w"
      },
      "execution_count": 5,
      "outputs": []
    },
    {
      "cell_type": "code",
      "source": [
        "data[\"Gender\"].mode()[0]"
      ],
      "metadata": {
        "colab": {
          "base_uri": "https://localhost:8080/",
          "height": 36
        },
        "id": "FBkTv3f5npfz",
        "outputId": "678b26ff-7d89-4688-a074-aa0941471b30"
      },
      "execution_count": 6,
      "outputs": [
        {
          "output_type": "execute_result",
          "data": {
            "application/vnd.google.colaboratory.intrinsic+json": {
              "type": "string"
            },
            "text/plain": [
              "'Male'"
            ]
          },
          "metadata": {},
          "execution_count": 6
        }
      ]
    },
    {
      "cell_type": "code",
      "source": [
        "data[\"Gender\"]=data[\"Gender\"].fillna(data[\"Gender\"].mode()[0])\n",
        "data[\"Married\"]=data[\"Married\"].fillna(data[\"Married\"].mode()[0])\n",
        "data[\"Loan_Status\"]=data[\"Loan_Status\"].fillna(data[\"Loan_Status\"].mode()[0])\n",
        "data[\"Self_Employed\"]=data[\"Self_Employed\"].fillna(data[\"Self_Employed\"].mode()[0])\n",
        "data[\"Credit_History\"]=data[\"Credit_History\"].fillna(data[\"Credit_History\"].mode()[0])\n",
        "data[\"Education\"]=data[\"Education\"].fillna(data[\"Education\"].mode()[0])\n"
      ],
      "metadata": {
        "id": "htbc9trentIG"
      },
      "execution_count": 7,
      "outputs": []
    },
    {
      "cell_type": "code",
      "source": [
        "data.isnull().sum()"
      ],
      "metadata": {
        "colab": {
          "base_uri": "https://localhost:8080/"
        },
        "id": "Yqo9UuLtn1xB",
        "outputId": "f0ee2472-c418-4c4e-81a2-86e1053501f4"
      },
      "execution_count": 8,
      "outputs": [
        {
          "output_type": "execute_result",
          "data": {
            "text/plain": [
              "Loan_ID              0\n",
              "Gender               0\n",
              "Married              0\n",
              "Dependents           0\n",
              "Education            0\n",
              "Self_Employed        0\n",
              "ApplicantIncome      0\n",
              "CoapplicantIncome    0\n",
              "LoanAmount           0\n",
              "Loan_Amount_Term     0\n",
              "Credit_History       0\n",
              "Property_Area        0\n",
              "Loan_Status          0\n",
              "dtype: int64"
            ]
          },
          "metadata": {},
          "execution_count": 8
        }
      ]
    },
    {
      "cell_type": "code",
      "source": [
        "data.head()"
      ],
      "metadata": {
        "colab": {
          "base_uri": "https://localhost:8080/",
          "height": 243
        },
        "id": "BN8lKMGDqxZy",
        "outputId": "0cea3135-bd56-4b2e-e82d-65424766e72f"
      },
      "execution_count": 9,
      "outputs": [
        {
          "output_type": "execute_result",
          "data": {
            "text/html": [
              "<div>\n",
              "<style scoped>\n",
              "    .dataframe tbody tr th:only-of-type {\n",
              "        vertical-align: middle;\n",
              "    }\n",
              "\n",
              "    .dataframe tbody tr th {\n",
              "        vertical-align: top;\n",
              "    }\n",
              "\n",
              "    .dataframe thead th {\n",
              "        text-align: right;\n",
              "    }\n",
              "</style>\n",
              "<table border=\"1\" class=\"dataframe\">\n",
              "  <thead>\n",
              "    <tr style=\"text-align: right;\">\n",
              "      <th></th>\n",
              "      <th>Loan_ID</th>\n",
              "      <th>Gender</th>\n",
              "      <th>Married</th>\n",
              "      <th>Dependents</th>\n",
              "      <th>Education</th>\n",
              "      <th>Self_Employed</th>\n",
              "      <th>ApplicantIncome</th>\n",
              "      <th>CoapplicantIncome</th>\n",
              "      <th>LoanAmount</th>\n",
              "      <th>Loan_Amount_Term</th>\n",
              "      <th>Credit_History</th>\n",
              "      <th>Property_Area</th>\n",
              "      <th>Loan_Status</th>\n",
              "    </tr>\n",
              "  </thead>\n",
              "  <tbody>\n",
              "    <tr>\n",
              "      <th>1</th>\n",
              "      <td>LP001003</td>\n",
              "      <td>Male</td>\n",
              "      <td>Yes</td>\n",
              "      <td>1</td>\n",
              "      <td>Graduate</td>\n",
              "      <td>No</td>\n",
              "      <td>4583</td>\n",
              "      <td>1508.0</td>\n",
              "      <td>128.0</td>\n",
              "      <td>360.0</td>\n",
              "      <td>1.0</td>\n",
              "      <td>Rural</td>\n",
              "      <td>N</td>\n",
              "    </tr>\n",
              "    <tr>\n",
              "      <th>2</th>\n",
              "      <td>LP001005</td>\n",
              "      <td>Male</td>\n",
              "      <td>Yes</td>\n",
              "      <td>0</td>\n",
              "      <td>Graduate</td>\n",
              "      <td>Yes</td>\n",
              "      <td>3000</td>\n",
              "      <td>0.0</td>\n",
              "      <td>66.0</td>\n",
              "      <td>360.0</td>\n",
              "      <td>1.0</td>\n",
              "      <td>Urban</td>\n",
              "      <td>Y</td>\n",
              "    </tr>\n",
              "    <tr>\n",
              "      <th>3</th>\n",
              "      <td>LP001006</td>\n",
              "      <td>Male</td>\n",
              "      <td>Yes</td>\n",
              "      <td>0</td>\n",
              "      <td>Not Graduate</td>\n",
              "      <td>No</td>\n",
              "      <td>2583</td>\n",
              "      <td>2358.0</td>\n",
              "      <td>120.0</td>\n",
              "      <td>360.0</td>\n",
              "      <td>1.0</td>\n",
              "      <td>Urban</td>\n",
              "      <td>Y</td>\n",
              "    </tr>\n",
              "    <tr>\n",
              "      <th>4</th>\n",
              "      <td>LP001008</td>\n",
              "      <td>Male</td>\n",
              "      <td>No</td>\n",
              "      <td>0</td>\n",
              "      <td>Graduate</td>\n",
              "      <td>No</td>\n",
              "      <td>6000</td>\n",
              "      <td>0.0</td>\n",
              "      <td>141.0</td>\n",
              "      <td>360.0</td>\n",
              "      <td>1.0</td>\n",
              "      <td>Urban</td>\n",
              "      <td>Y</td>\n",
              "    </tr>\n",
              "    <tr>\n",
              "      <th>5</th>\n",
              "      <td>LP001011</td>\n",
              "      <td>Male</td>\n",
              "      <td>Yes</td>\n",
              "      <td>2</td>\n",
              "      <td>Graduate</td>\n",
              "      <td>Yes</td>\n",
              "      <td>5417</td>\n",
              "      <td>4196.0</td>\n",
              "      <td>267.0</td>\n",
              "      <td>360.0</td>\n",
              "      <td>1.0</td>\n",
              "      <td>Urban</td>\n",
              "      <td>Y</td>\n",
              "    </tr>\n",
              "  </tbody>\n",
              "</table>\n",
              "</div>"
            ],
            "text/plain": [
              "    Loan_ID Gender Married  ... Credit_History Property_Area Loan_Status\n",
              "1  LP001003   Male     Yes  ...            1.0         Rural           N\n",
              "2  LP001005   Male     Yes  ...            1.0         Urban           Y\n",
              "3  LP001006   Male     Yes  ...            1.0         Urban           Y\n",
              "4  LP001008   Male      No  ...            1.0         Urban           Y\n",
              "5  LP001011   Male     Yes  ...            1.0         Urban           Y\n",
              "\n",
              "[5 rows x 13 columns]"
            ]
          },
          "metadata": {},
          "execution_count": 9
        }
      ]
    },
    {
      "cell_type": "code",
      "source": [
        "data.drop(labels=[\"Loan_ID\"],inplace=True,axis=1) # axis=0 ==> rows , 1 means Column"
      ],
      "metadata": {
        "id": "fnwEbBrkuG5j"
      },
      "execution_count": 10,
      "outputs": []
    },
    {
      "cell_type": "code",
      "source": [
        "from sklearn.preprocessing import LabelEncoder\n",
        "encoder=LabelEncoder()\n",
        "data[\"Gender\"]=encoder.fit_transform(data[\"Gender\"])\n",
        "data[\"Married\"]=encoder.fit_transform(data[\"Married\"])\n",
        "data[\"Loan_Status\"]=encoder.fit_transform(data[\"Loan_Status\"])\n",
        "data[\"Education\"]=encoder.fit_transform(data[\"Education\"])\n",
        "data[\"Self_Employed\"]=encoder.fit_transform(data[\"Self_Employed\"])\n",
        "data[\"Property_Area\"]=encoder.fit_transform(data[\"Property_Area\"])\n",
        "data[\"Dependents\"]=encoder.fit_transform(data[\"Dependents\"])"
      ],
      "metadata": {
        "id": "Vw5VvdGCtiKx"
      },
      "execution_count": 11,
      "outputs": []
    },
    {
      "cell_type": "code",
      "source": [
        "X = data.iloc[:, :-1].values\n",
        "y = data.iloc[:, -1].values\n",
        "data.shape"
      ],
      "metadata": {
        "colab": {
          "base_uri": "https://localhost:8080/"
        },
        "id": "x7mr-jYdvYNk",
        "outputId": "89596770-4baf-43f3-8404-120f82b18571"
      },
      "execution_count": 12,
      "outputs": [
        {
          "output_type": "execute_result",
          "data": {
            "text/plain": [
              "(480, 12)"
            ]
          },
          "metadata": {},
          "execution_count": 12
        }
      ]
    },
    {
      "cell_type": "code",
      "source": [
        "data.head()"
      ],
      "metadata": {
        "colab": {
          "base_uri": "https://localhost:8080/",
          "height": 206
        },
        "id": "a6uXyK62u671",
        "outputId": "adc8ec34-2d8b-41aa-9581-9e8c7ef3176a"
      },
      "execution_count": 13,
      "outputs": [
        {
          "output_type": "execute_result",
          "data": {
            "text/html": [
              "<div>\n",
              "<style scoped>\n",
              "    .dataframe tbody tr th:only-of-type {\n",
              "        vertical-align: middle;\n",
              "    }\n",
              "\n",
              "    .dataframe tbody tr th {\n",
              "        vertical-align: top;\n",
              "    }\n",
              "\n",
              "    .dataframe thead th {\n",
              "        text-align: right;\n",
              "    }\n",
              "</style>\n",
              "<table border=\"1\" class=\"dataframe\">\n",
              "  <thead>\n",
              "    <tr style=\"text-align: right;\">\n",
              "      <th></th>\n",
              "      <th>Gender</th>\n",
              "      <th>Married</th>\n",
              "      <th>Dependents</th>\n",
              "      <th>Education</th>\n",
              "      <th>Self_Employed</th>\n",
              "      <th>ApplicantIncome</th>\n",
              "      <th>CoapplicantIncome</th>\n",
              "      <th>LoanAmount</th>\n",
              "      <th>Loan_Amount_Term</th>\n",
              "      <th>Credit_History</th>\n",
              "      <th>Property_Area</th>\n",
              "      <th>Loan_Status</th>\n",
              "    </tr>\n",
              "  </thead>\n",
              "  <tbody>\n",
              "    <tr>\n",
              "      <th>1</th>\n",
              "      <td>1</td>\n",
              "      <td>1</td>\n",
              "      <td>1</td>\n",
              "      <td>0</td>\n",
              "      <td>0</td>\n",
              "      <td>4583</td>\n",
              "      <td>1508.0</td>\n",
              "      <td>128.0</td>\n",
              "      <td>360.0</td>\n",
              "      <td>1.0</td>\n",
              "      <td>0</td>\n",
              "      <td>0</td>\n",
              "    </tr>\n",
              "    <tr>\n",
              "      <th>2</th>\n",
              "      <td>1</td>\n",
              "      <td>1</td>\n",
              "      <td>0</td>\n",
              "      <td>0</td>\n",
              "      <td>1</td>\n",
              "      <td>3000</td>\n",
              "      <td>0.0</td>\n",
              "      <td>66.0</td>\n",
              "      <td>360.0</td>\n",
              "      <td>1.0</td>\n",
              "      <td>2</td>\n",
              "      <td>1</td>\n",
              "    </tr>\n",
              "    <tr>\n",
              "      <th>3</th>\n",
              "      <td>1</td>\n",
              "      <td>1</td>\n",
              "      <td>0</td>\n",
              "      <td>1</td>\n",
              "      <td>0</td>\n",
              "      <td>2583</td>\n",
              "      <td>2358.0</td>\n",
              "      <td>120.0</td>\n",
              "      <td>360.0</td>\n",
              "      <td>1.0</td>\n",
              "      <td>2</td>\n",
              "      <td>1</td>\n",
              "    </tr>\n",
              "    <tr>\n",
              "      <th>4</th>\n",
              "      <td>1</td>\n",
              "      <td>0</td>\n",
              "      <td>0</td>\n",
              "      <td>0</td>\n",
              "      <td>0</td>\n",
              "      <td>6000</td>\n",
              "      <td>0.0</td>\n",
              "      <td>141.0</td>\n",
              "      <td>360.0</td>\n",
              "      <td>1.0</td>\n",
              "      <td>2</td>\n",
              "      <td>1</td>\n",
              "    </tr>\n",
              "    <tr>\n",
              "      <th>5</th>\n",
              "      <td>1</td>\n",
              "      <td>1</td>\n",
              "      <td>2</td>\n",
              "      <td>0</td>\n",
              "      <td>1</td>\n",
              "      <td>5417</td>\n",
              "      <td>4196.0</td>\n",
              "      <td>267.0</td>\n",
              "      <td>360.0</td>\n",
              "      <td>1.0</td>\n",
              "      <td>2</td>\n",
              "      <td>1</td>\n",
              "    </tr>\n",
              "  </tbody>\n",
              "</table>\n",
              "</div>"
            ],
            "text/plain": [
              "   Gender  Married  Dependents  ...  Credit_History  Property_Area  Loan_Status\n",
              "1       1        1           1  ...             1.0              0            0\n",
              "2       1        1           0  ...             1.0              2            1\n",
              "3       1        1           0  ...             1.0              2            1\n",
              "4       1        0           0  ...             1.0              2            1\n",
              "5       1        1           2  ...             1.0              2            1\n",
              "\n",
              "[5 rows x 12 columns]"
            ]
          },
          "metadata": {},
          "execution_count": 13
        }
      ]
    },
    {
      "cell_type": "code",
      "source": [
        "data.dtypes"
      ],
      "metadata": {
        "colab": {
          "base_uri": "https://localhost:8080/"
        },
        "id": "6vTX5Xv5xYud",
        "outputId": "54cf9225-2434-4594-ff5b-b59fb2f1640a"
      },
      "execution_count": 14,
      "outputs": [
        {
          "output_type": "execute_result",
          "data": {
            "text/plain": [
              "Gender                 int64\n",
              "Married                int64\n",
              "Dependents             int64\n",
              "Education              int64\n",
              "Self_Employed          int64\n",
              "ApplicantIncome        int64\n",
              "CoapplicantIncome    float64\n",
              "LoanAmount           float64\n",
              "Loan_Amount_Term     float64\n",
              "Credit_History       float64\n",
              "Property_Area          int64\n",
              "Loan_Status            int64\n",
              "dtype: object"
            ]
          },
          "metadata": {},
          "execution_count": 14
        }
      ]
    },
    {
      "cell_type": "code",
      "source": [
        "from sklearn.preprocessing import MinMaxScaler\n",
        "scaler=MinMaxScaler()\n",
        "scaler.fit(X)\n",
        "x_scaled=scaler.transform(X)"
      ],
      "metadata": {
        "id": "HezJyqmbvN4k"
      },
      "execution_count": 15,
      "outputs": []
    },
    {
      "cell_type": "code",
      "source": [
        "from sklearn.model_selection import train_test_split\n",
        "X_train, X_test, y_train, y_test = train_test_split(X, y, test_size = 0.2, random_state = 0)\n"
      ],
      "metadata": {
        "id": "chbUxjXuyXN_"
      },
      "execution_count": 16,
      "outputs": []
    },
    {
      "cell_type": "code",
      "source": [
        "from tensorflow.keras.models import Sequential\n",
        "from tensorflow.keras.layers import Dense\n",
        "from tensorflow.keras.callbacks import EarlyStopping\n",
        "stop=EarlyStopping(patience=4)\n",
        "model=Sequential() \n",
        "model.add(Dense(35,activation=\"relu\"))\n",
        "model.add(Dense(25,activation=\"relu\")) \n",
        "model.add(Dense(1,activation=\"sigmoid\"))\n",
        "model.compile(optimizer=\"adam\",loss=\"binary_crossentropy\")\n",
        "model.fit(X_train,y_train,epochs=50,batch_size=1,validation_data=(X_test,y_test))"
      ],
      "metadata": {
        "colab": {
          "base_uri": "https://localhost:8080/"
        },
        "id": "xQlEiCfPxXzd",
        "outputId": "53c7e10e-10c4-4d27-b1b6-d9f477f52ab8"
      },
      "execution_count": null,
      "outputs": [
        {
          "output_type": "stream",
          "name": "stdout",
          "text": [
            "Epoch 1/50\n",
            "384/384 [==============================] - 3s 5ms/step - loss: 33.4586 - val_loss: 23.7795\n",
            "Epoch 2/50\n",
            "384/384 [==============================] - 2s 4ms/step - loss: 36.3034 - val_loss: 9.6114\n",
            "Epoch 3/50\n",
            "384/384 [==============================] - 2s 5ms/step - loss: 20.2377 - val_loss: 10.2290\n",
            "Epoch 4/50\n",
            "384/384 [==============================] - 2s 5ms/step - loss: 20.7586 - val_loss: 108.6867\n",
            "Epoch 5/50\n",
            "384/384 [==============================] - 1s 3ms/step - loss: 21.5970 - val_loss: 46.5152\n",
            "Epoch 6/50\n",
            "384/384 [==============================] - 2s 4ms/step - loss: 19.3705 - val_loss: 46.3712\n",
            "Epoch 7/50\n",
            "384/384 [==============================] - 2s 4ms/step - loss: 14.5748 - val_loss: 15.7140\n",
            "Epoch 8/50\n",
            "384/384 [==============================] - 2s 5ms/step - loss: 14.5615 - val_loss: 8.8202\n",
            "Epoch 9/50\n",
            "384/384 [==============================] - 2s 4ms/step - loss: 15.4366 - val_loss: 6.3377\n",
            "Epoch 10/50\n",
            "384/384 [==============================] - 2s 5ms/step - loss: 11.1899 - val_loss: 9.3505\n",
            "Epoch 11/50\n",
            "384/384 [==============================] - 2s 5ms/step - loss: 17.9787 - val_loss: 30.8493\n",
            "Epoch 12/50\n",
            "384/384 [==============================] - 2s 5ms/step - loss: 11.8483 - val_loss: 25.0967\n",
            "Epoch 13/50\n",
            "384/384 [==============================] - 1s 3ms/step - loss: 9.5668 - val_loss: 8.2172\n",
            "Epoch 14/50\n",
            "384/384 [==============================] - 1s 3ms/step - loss: 11.0174 - val_loss: 12.4021\n",
            "Epoch 15/50\n",
            "384/384 [==============================] - 1s 4ms/step - loss: 16.0824 - val_loss: 14.5934\n",
            "Epoch 16/50\n",
            "384/384 [==============================] - 2s 4ms/step - loss: 8.9694 - val_loss: 21.2745\n",
            "Epoch 17/50\n",
            "384/384 [==============================] - 2s 4ms/step - loss: 7.4583 - val_loss: 8.1384\n",
            "Epoch 18/50\n",
            "384/384 [==============================] - 1s 3ms/step - loss: 7.2704 - val_loss: 4.0102\n",
            "Epoch 19/50\n",
            "384/384 [==============================] - 2s 6ms/step - loss: 8.1461 - val_loss: 9.8439\n",
            "Epoch 20/50\n",
            "384/384 [==============================] - 2s 4ms/step - loss: 10.0342 - val_loss: 7.8330\n",
            "Epoch 21/50\n",
            "384/384 [==============================] - 1s 4ms/step - loss: 7.3898 - val_loss: 4.5374\n",
            "Epoch 22/50\n",
            "384/384 [==============================] - 1s 2ms/step - loss: 5.8989 - val_loss: 4.5587\n",
            "Epoch 23/50\n",
            "384/384 [==============================] - 1s 2ms/step - loss: 6.9580 - val_loss: 27.1161\n",
            "Epoch 24/50\n",
            "384/384 [==============================] - 1s 2ms/step - loss: 6.1834 - val_loss: 4.3361\n",
            "Epoch 25/50\n",
            "384/384 [==============================] - 1s 2ms/step - loss: 6.6739 - val_loss: 5.3973\n",
            "Epoch 26/50\n",
            "384/384 [==============================] - 1s 2ms/step - loss: 7.0797 - val_loss: 2.5815\n",
            "Epoch 27/50\n",
            "384/384 [==============================] - 1s 2ms/step - loss: 4.3496 - val_loss: 7.8050\n",
            "Epoch 28/50\n",
            "384/384 [==============================] - 1s 2ms/step - loss: 4.9832 - val_loss: 5.7194\n",
            "Epoch 29/50\n",
            "384/384 [==============================] - 1s 2ms/step - loss: 4.5917 - val_loss: 6.0957\n",
            "Epoch 30/50\n",
            "384/384 [==============================] - 1s 2ms/step - loss: 4.1155 - val_loss: 3.9389\n",
            "Epoch 31/50\n",
            "384/384 [==============================] - 1s 2ms/step - loss: 3.4690 - val_loss: 2.0511\n",
            "Epoch 32/50\n",
            "384/384 [==============================] - 1s 2ms/step - loss: 3.0724 - val_loss: 30.1340\n",
            "Epoch 33/50\n",
            "384/384 [==============================] - 1s 2ms/step - loss: 8.0712 - val_loss: 3.2349\n",
            "Epoch 34/50\n",
            "384/384 [==============================] - 1s 2ms/step - loss: 3.3670 - val_loss: 4.7118\n",
            "Epoch 35/50\n",
            "384/384 [==============================] - 1s 2ms/step - loss: 2.6345 - val_loss: 1.2645\n",
            "Epoch 36/50\n",
            "384/384 [==============================] - 1s 2ms/step - loss: 2.3602 - val_loss: 3.2742\n",
            "Epoch 37/50\n",
            "222/384 [================>.............] - ETA: 0s - loss: 2.6120"
          ]
        }
      ]
    },
    {
      "cell_type": "code",
      "source": [
        "model.summary()"
      ],
      "metadata": {
        "id": "wDyEATuWzIls"
      },
      "execution_count": null,
      "outputs": []
    }
  ]
}